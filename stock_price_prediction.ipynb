{
  "nbformat": 4,
  "nbformat_minor": 0,
  "metadata": {
    "colab": {
      "provenance": [],
      "mount_file_id": "1PpjZkXi6YJFRMjsEp47fovdfoqwsnAdT",
      "authorship_tag": "ABX9TyPocpbqSWFYIVJccmNoHJbR",
      "include_colab_link": true
    },
    "kernelspec": {
      "name": "python3",
      "display_name": "Python 3"
    },
    "language_info": {
      "name": "python"
    }
  },
  "cells": [
    {
      "cell_type": "markdown",
      "metadata": {
        "id": "view-in-github",
        "colab_type": "text"
      },
      "source": [
        "<a href=\"https://colab.research.google.com/github/smth-27/Stock_Price_Prediction/blob/main/stock_price_prediction.ipynb\" target=\"_parent\"><img src=\"https://colab.research.google.com/assets/colab-badge.svg\" alt=\"Open In Colab\"/></a>"
      ]
    },
    {
      "cell_type": "code",
      "execution_count": null,
      "metadata": {
        "id": "0Ypy-HY5z2o0"
      },
      "outputs": [],
      "source": [
        "import math\n",
        "import numpy as np\n",
        "import pandas as pd\n",
        "from google.colab import drive\n",
        "import io\n",
        "from sklearn.preprocessing import MinMaxScaler\n",
        "from sklearn.metrics import r2_score\n",
        "from keras.models import Sequential\n",
        "from keras.layers import Dense, LSTM\n",
        "import matplotlib.pyplot as plt\n",
        "plt.style.use('fivethirtyeight')\n",
        "path = '/content/drive/MyDrive/dataset/1613615-Stock_Price_data_set.csv'"
      ]
    },
    {
      "cell_type": "code",
      "source": [
        "df = pd.read_csv(path)\n",
        "df"
      ],
      "metadata": {
        "colab": {
          "base_uri": "https://localhost:8080/",
          "height": 424
        },
        "id": "bKOOhI1w6H-w",
        "outputId": "02c50be9-e739-4724-8da2-43d5845fe381"
      },
      "execution_count": null,
      "outputs": [
        {
          "output_type": "execute_result",
          "data": {
            "text/plain": [
              "            Date        Open        High         Low       Close   Adj Close  \\\n",
              "0     2018-02-05  262.000000  267.899994  250.029999  254.259995  254.259995   \n",
              "1     2018-02-06  247.699997  266.700012  245.000000  265.720001  265.720001   \n",
              "2     2018-02-07  266.579987  272.450012  264.329987  264.559998  264.559998   \n",
              "3     2018-02-08  267.079987  267.619995  250.000000  250.100006  250.100006   \n",
              "4     2018-02-09  253.850006  255.800003  236.110001  249.470001  249.470001   \n",
              "...          ...         ...         ...         ...         ...         ...   \n",
              "1004  2022-01-31  401.970001  427.700012  398.200012  427.140015  427.140015   \n",
              "1005  2022-02-01  432.959991  458.480011  425.540009  457.130005  457.130005   \n",
              "1006  2022-02-02  448.250000  451.980011  426.480011  429.480011  429.480011   \n",
              "1007  2022-02-03  421.440002  429.260010  404.279999  405.600006  405.600006   \n",
              "1008  2022-02-04  407.309998  412.769989  396.640015  410.170013  410.170013   \n",
              "\n",
              "        Volume  \n",
              "0     11896100  \n",
              "1     12595800  \n",
              "2      8981500  \n",
              "3      9306700  \n",
              "4     16906900  \n",
              "...        ...  \n",
              "1004  20047500  \n",
              "1005  22542300  \n",
              "1006  14346000  \n",
              "1007   9905200  \n",
              "1008   7782400  \n",
              "\n",
              "[1009 rows x 7 columns]"
            ],
            "text/html": [
              "\n",
              "  <div id=\"df-135cb9c3-5883-43c1-9292-5def3fcc1e5b\">\n",
              "    <div class=\"colab-df-container\">\n",
              "      <div>\n",
              "<style scoped>\n",
              "    .dataframe tbody tr th:only-of-type {\n",
              "        vertical-align: middle;\n",
              "    }\n",
              "\n",
              "    .dataframe tbody tr th {\n",
              "        vertical-align: top;\n",
              "    }\n",
              "\n",
              "    .dataframe thead th {\n",
              "        text-align: right;\n",
              "    }\n",
              "</style>\n",
              "<table border=\"1\" class=\"dataframe\">\n",
              "  <thead>\n",
              "    <tr style=\"text-align: right;\">\n",
              "      <th></th>\n",
              "      <th>Date</th>\n",
              "      <th>Open</th>\n",
              "      <th>High</th>\n",
              "      <th>Low</th>\n",
              "      <th>Close</th>\n",
              "      <th>Adj Close</th>\n",
              "      <th>Volume</th>\n",
              "    </tr>\n",
              "  </thead>\n",
              "  <tbody>\n",
              "    <tr>\n",
              "      <th>0</th>\n",
              "      <td>2018-02-05</td>\n",
              "      <td>262.000000</td>\n",
              "      <td>267.899994</td>\n",
              "      <td>250.029999</td>\n",
              "      <td>254.259995</td>\n",
              "      <td>254.259995</td>\n",
              "      <td>11896100</td>\n",
              "    </tr>\n",
              "    <tr>\n",
              "      <th>1</th>\n",
              "      <td>2018-02-06</td>\n",
              "      <td>247.699997</td>\n",
              "      <td>266.700012</td>\n",
              "      <td>245.000000</td>\n",
              "      <td>265.720001</td>\n",
              "      <td>265.720001</td>\n",
              "      <td>12595800</td>\n",
              "    </tr>\n",
              "    <tr>\n",
              "      <th>2</th>\n",
              "      <td>2018-02-07</td>\n",
              "      <td>266.579987</td>\n",
              "      <td>272.450012</td>\n",
              "      <td>264.329987</td>\n",
              "      <td>264.559998</td>\n",
              "      <td>264.559998</td>\n",
              "      <td>8981500</td>\n",
              "    </tr>\n",
              "    <tr>\n",
              "      <th>3</th>\n",
              "      <td>2018-02-08</td>\n",
              "      <td>267.079987</td>\n",
              "      <td>267.619995</td>\n",
              "      <td>250.000000</td>\n",
              "      <td>250.100006</td>\n",
              "      <td>250.100006</td>\n",
              "      <td>9306700</td>\n",
              "    </tr>\n",
              "    <tr>\n",
              "      <th>4</th>\n",
              "      <td>2018-02-09</td>\n",
              "      <td>253.850006</td>\n",
              "      <td>255.800003</td>\n",
              "      <td>236.110001</td>\n",
              "      <td>249.470001</td>\n",
              "      <td>249.470001</td>\n",
              "      <td>16906900</td>\n",
              "    </tr>\n",
              "    <tr>\n",
              "      <th>...</th>\n",
              "      <td>...</td>\n",
              "      <td>...</td>\n",
              "      <td>...</td>\n",
              "      <td>...</td>\n",
              "      <td>...</td>\n",
              "      <td>...</td>\n",
              "      <td>...</td>\n",
              "    </tr>\n",
              "    <tr>\n",
              "      <th>1004</th>\n",
              "      <td>2022-01-31</td>\n",
              "      <td>401.970001</td>\n",
              "      <td>427.700012</td>\n",
              "      <td>398.200012</td>\n",
              "      <td>427.140015</td>\n",
              "      <td>427.140015</td>\n",
              "      <td>20047500</td>\n",
              "    </tr>\n",
              "    <tr>\n",
              "      <th>1005</th>\n",
              "      <td>2022-02-01</td>\n",
              "      <td>432.959991</td>\n",
              "      <td>458.480011</td>\n",
              "      <td>425.540009</td>\n",
              "      <td>457.130005</td>\n",
              "      <td>457.130005</td>\n",
              "      <td>22542300</td>\n",
              "    </tr>\n",
              "    <tr>\n",
              "      <th>1006</th>\n",
              "      <td>2022-02-02</td>\n",
              "      <td>448.250000</td>\n",
              "      <td>451.980011</td>\n",
              "      <td>426.480011</td>\n",
              "      <td>429.480011</td>\n",
              "      <td>429.480011</td>\n",
              "      <td>14346000</td>\n",
              "    </tr>\n",
              "    <tr>\n",
              "      <th>1007</th>\n",
              "      <td>2022-02-03</td>\n",
              "      <td>421.440002</td>\n",
              "      <td>429.260010</td>\n",
              "      <td>404.279999</td>\n",
              "      <td>405.600006</td>\n",
              "      <td>405.600006</td>\n",
              "      <td>9905200</td>\n",
              "    </tr>\n",
              "    <tr>\n",
              "      <th>1008</th>\n",
              "      <td>2022-02-04</td>\n",
              "      <td>407.309998</td>\n",
              "      <td>412.769989</td>\n",
              "      <td>396.640015</td>\n",
              "      <td>410.170013</td>\n",
              "      <td>410.170013</td>\n",
              "      <td>7782400</td>\n",
              "    </tr>\n",
              "  </tbody>\n",
              "</table>\n",
              "<p>1009 rows × 7 columns</p>\n",
              "</div>\n",
              "      <button class=\"colab-df-convert\" onclick=\"convertToInteractive('df-135cb9c3-5883-43c1-9292-5def3fcc1e5b')\"\n",
              "              title=\"Convert this dataframe to an interactive table.\"\n",
              "              style=\"display:none;\">\n",
              "        \n",
              "  <svg xmlns=\"http://www.w3.org/2000/svg\" height=\"24px\"viewBox=\"0 0 24 24\"\n",
              "       width=\"24px\">\n",
              "    <path d=\"M0 0h24v24H0V0z\" fill=\"none\"/>\n",
              "    <path d=\"M18.56 5.44l.94 2.06.94-2.06 2.06-.94-2.06-.94-.94-2.06-.94 2.06-2.06.94zm-11 1L8.5 8.5l.94-2.06 2.06-.94-2.06-.94L8.5 2.5l-.94 2.06-2.06.94zm10 10l.94 2.06.94-2.06 2.06-.94-2.06-.94-.94-2.06-.94 2.06-2.06.94z\"/><path d=\"M17.41 7.96l-1.37-1.37c-.4-.4-.92-.59-1.43-.59-.52 0-1.04.2-1.43.59L10.3 9.45l-7.72 7.72c-.78.78-.78 2.05 0 2.83L4 21.41c.39.39.9.59 1.41.59.51 0 1.02-.2 1.41-.59l7.78-7.78 2.81-2.81c.8-.78.8-2.07 0-2.86zM5.41 20L4 18.59l7.72-7.72 1.47 1.35L5.41 20z\"/>\n",
              "  </svg>\n",
              "      </button>\n",
              "      \n",
              "  <style>\n",
              "    .colab-df-container {\n",
              "      display:flex;\n",
              "      flex-wrap:wrap;\n",
              "      gap: 12px;\n",
              "    }\n",
              "\n",
              "    .colab-df-convert {\n",
              "      background-color: #E8F0FE;\n",
              "      border: none;\n",
              "      border-radius: 50%;\n",
              "      cursor: pointer;\n",
              "      display: none;\n",
              "      fill: #1967D2;\n",
              "      height: 32px;\n",
              "      padding: 0 0 0 0;\n",
              "      width: 32px;\n",
              "    }\n",
              "\n",
              "    .colab-df-convert:hover {\n",
              "      background-color: #E2EBFA;\n",
              "      box-shadow: 0px 1px 2px rgba(60, 64, 67, 0.3), 0px 1px 3px 1px rgba(60, 64, 67, 0.15);\n",
              "      fill: #174EA6;\n",
              "    }\n",
              "\n",
              "    [theme=dark] .colab-df-convert {\n",
              "      background-color: #3B4455;\n",
              "      fill: #D2E3FC;\n",
              "    }\n",
              "\n",
              "    [theme=dark] .colab-df-convert:hover {\n",
              "      background-color: #434B5C;\n",
              "      box-shadow: 0px 1px 3px 1px rgba(0, 0, 0, 0.15);\n",
              "      filter: drop-shadow(0px 1px 2px rgba(0, 0, 0, 0.3));\n",
              "      fill: #FFFFFF;\n",
              "    }\n",
              "  </style>\n",
              "\n",
              "      <script>\n",
              "        const buttonEl =\n",
              "          document.querySelector('#df-135cb9c3-5883-43c1-9292-5def3fcc1e5b button.colab-df-convert');\n",
              "        buttonEl.style.display =\n",
              "          google.colab.kernel.accessAllowed ? 'block' : 'none';\n",
              "\n",
              "        async function convertToInteractive(key) {\n",
              "          const element = document.querySelector('#df-135cb9c3-5883-43c1-9292-5def3fcc1e5b');\n",
              "          const dataTable =\n",
              "            await google.colab.kernel.invokeFunction('convertToInteractive',\n",
              "                                                     [key], {});\n",
              "          if (!dataTable) return;\n",
              "\n",
              "          const docLinkHtml = 'Like what you see? Visit the ' +\n",
              "            '<a target=\"_blank\" href=https://colab.research.google.com/notebooks/data_table.ipynb>data table notebook</a>'\n",
              "            + ' to learn more about interactive tables.';\n",
              "          element.innerHTML = '';\n",
              "          dataTable['output_type'] = 'display_data';\n",
              "          await google.colab.output.renderOutput(dataTable, element);\n",
              "          const docLink = document.createElement('div');\n",
              "          docLink.innerHTML = docLinkHtml;\n",
              "          element.appendChild(docLink);\n",
              "        }\n",
              "      </script>\n",
              "    </div>\n",
              "  </div>\n",
              "  "
            ]
          },
          "metadata": {},
          "execution_count": 3
        }
      ]
    },
    {
      "cell_type": "code",
      "source": [
        "df.shape"
      ],
      "metadata": {
        "colab": {
          "base_uri": "https://localhost:8080/"
        },
        "id": "WAH17-y56wAK",
        "outputId": "8f2860b8-8541-4fd8-e875-f827954d3e88"
      },
      "execution_count": null,
      "outputs": [
        {
          "output_type": "execute_result",
          "data": {
            "text/plain": [
              "(1009, 7)"
            ]
          },
          "metadata": {},
          "execution_count": 9
        }
      ]
    },
    {
      "cell_type": "code",
      "source": [
        "#closing price history\n",
        "plt.figure(figsize=(8,4))\n",
        "plt.title('Close Price History')\n",
        "plt.plot(df['Close'])\n",
        "plt.xlabel('Date',fontsize=18)\n",
        "plt.ylabel('Close Price',fontsize=18)\n",
        "plt.show()"
      ],
      "metadata": {
        "colab": {
          "base_uri": "https://localhost:8080/",
          "height": 325
        },
        "id": "xX7r7AlB67wx",
        "outputId": "6cc15f6e-9308-4ed1-8696-d546f99ee95c"
      },
      "execution_count": null,
      "outputs": [
        {
          "output_type": "display_data",
          "data": {
            "text/plain": [
              "<Figure size 576x288 with 1 Axes>"
            ],
            "image/png": "[encoded data removed]"
          },
          "metadata": {}
        }
      ]
    },
    {
      "cell_type": "code",
      "source": [
        "data = df.filter(['Close']) #new dataframe with only close cloumn\n",
        "dataset = data.values       #convert thedataframe into a numpy array\n",
        "training_data_len = math.ceil(len(dataset) * .8 )\n",
        "training_data_len"
      ],
      "metadata": {
        "colab": {
          "base_uri": "https://localhost:8080/"
        },
        "id": "CCU-wLkJ8Ejc",
        "outputId": "9a427eea-c002-41c5-d226-1f59d3acee6b"
      },
      "execution_count": null,
      "outputs": [
        {
          "output_type": "execute_result",
          "data": {
            "text/plain": [
              "808"
            ]
          },
          "metadata": {},
          "execution_count": 5
        }
      ]
    },
    {
      "cell_type": "code",
      "source": [
        "#scale the data\n",
        "scaler = MinMaxScaler(feature_range=(0,1))\n",
        "scaled_data = scaler.fit_transform(dataset)\n",
        "scaled_data"
      ],
      "metadata": {
        "colab": {
          "base_uri": "https://localhost:8080/"
        },
        "id": "V5SjP-3b8wrS",
        "outputId": "83357404-4bd4-43c2-d0c5-fe2374478c16"
      },
      "execution_count": null,
      "outputs": [
        {
          "output_type": "execute_result",
          "data": {
            "text/plain": [
              "array([[0.04451626],\n",
              "       [0.06954849],\n",
              "       [0.06701469],\n",
              "       ...,\n",
              "       [0.4272515 ],\n",
              "       [0.37509011],\n",
              "       [0.38507243]])"
            ]
          },
          "metadata": {},
          "execution_count": 6
        }
      ]
    },
    {
      "cell_type": "code",
      "source": [
        "#create training dataset\n",
        "train_data = scaled_data[0:training_data_len, :]\n",
        "#spliting the data into two datasets\n",
        "x_train=[]\n",
        "y_train=[]\n",
        "for i in range(60, len(train_data)):\n",
        "  x_train.append(train_data[i-60:i,0])\n",
        "  y_train.append(train_data[i, 0])\n",
        "  if i<=61:\n",
        "    print(x_train)\n",
        "    print(y_train)\n",
        "    print()"
      ],
      "metadata": {
        "colab": {
          "base_uri": "https://localhost:8080/"
        },
        "id": "sfzg2hYG9OyG",
        "outputId": "d0aa6cb7-9d39-464f-a600-fd1911e6c29e"
      },
      "execution_count": null,
      "outputs": [
        {
          "output_type": "stream",
          "name": "stdout",
          "text": [
            "[array([0.04451626, 0.06954849, 0.06701469, 0.03542955, 0.03405342,\n",
            "       0.05257641, 0.05327534, 0.0701601 , 0.10133021, 0.09750767,\n",
            "       0.09757319, 0.10301218, 0.09667768, 0.11369343, 0.13167034,\n",
            "       0.12391599, 0.12559796, 0.12343551, 0.14672022, 0.1771914 ,\n",
            "       0.19951508, 0.19064677, 0.18156003, 0.2131015 , 0.19095254,\n",
            "       0.17911361, 0.19149862, 0.19049385, 0.18472731, 0.17387127,\n",
            "       0.18265218, 0.18042421, 0.15906164, 0.14647998, 0.18887749,\n",
            "       0.1459339 , 0.11334393, 0.13426968, 0.10137394, 0.10875693,\n",
            "       0.12026823, 0.13125532, 0.12007165, 0.12243068, 0.14021101,\n",
            "       0.15244317, 0.16463161, 0.16987394, 0.16142066, 0.22319301,\n",
            "       0.21982915, 0.21585376, 0.20508505, 0.18525152, 0.15976057,\n",
            "       0.15700838, 0.17496343, 0.17011425, 0.17164323, 0.17347804])]\n",
            "[0.17360909661393864]\n",
            "\n",
            "[array([0.04451626, 0.06954849, 0.06701469, 0.03542955, 0.03405342,\n",
            "       0.05257641, 0.05327534, 0.0701601 , 0.10133021, 0.09750767,\n",
            "       0.09757319, 0.10301218, 0.09667768, 0.11369343, 0.13167034,\n",
            "       0.12391599, 0.12559796, 0.12343551, 0.14672022, 0.1771914 ,\n",
            "       0.19951508, 0.19064677, 0.18156003, 0.2131015 , 0.19095254,\n",
            "       0.17911361, 0.19149862, 0.19049385, 0.18472731, 0.17387127,\n",
            "       0.18265218, 0.18042421, 0.15906164, 0.14647998, 0.18887749,\n",
            "       0.1459339 , 0.11334393, 0.13426968, 0.10137394, 0.10875693,\n",
            "       0.12026823, 0.13125532, 0.12007165, 0.12243068, 0.14021101,\n",
            "       0.15244317, 0.16463161, 0.16987394, 0.16142066, 0.22319301,\n",
            "       0.21982915, 0.21585376, 0.20508505, 0.18525152, 0.15976057,\n",
            "       0.15700838, 0.17496343, 0.17011425, 0.17164323, 0.17347804]), array([0.06954849, 0.06701469, 0.03542955, 0.03405342, 0.05257641,\n",
            "       0.05327534, 0.0701601 , 0.10133021, 0.09750767, 0.09757319,\n",
            "       0.10301218, 0.09667768, 0.11369343, 0.13167034, 0.12391599,\n",
            "       0.12559796, 0.12343551, 0.14672022, 0.1771914 , 0.19951508,\n",
            "       0.19064677, 0.18156003, 0.2131015 , 0.19095254, 0.17911361,\n",
            "       0.19149862, 0.19049385, 0.18472731, 0.17387127, 0.18265218,\n",
            "       0.18042421, 0.15906164, 0.14647998, 0.18887749, 0.1459339 ,\n",
            "       0.11334393, 0.13426968, 0.10137394, 0.10875693, 0.12026823,\n",
            "       0.13125532, 0.12007165, 0.12243068, 0.14021101, 0.15244317,\n",
            "       0.16463161, 0.16987394, 0.16142066, 0.22319301, 0.21982915,\n",
            "       0.21585376, 0.20508505, 0.18525152, 0.15976057, 0.15700838,\n",
            "       0.17496343, 0.17011425, 0.17164323, 0.17347804, 0.1736091 ])]\n",
            "[0.17360909661393864, 0.16996133223364263]\n",
            "\n"
          ]
        }
      ]
    },
    {
      "cell_type": "code",
      "source": [
        "#convert train datasets to numpy array\n",
        "x_train= np.array(x_train)\n",
        "y_train= np.array(y_train)\n",
        "x_train\n",
        "y_train"
      ],
      "metadata": {
        "colab": {
          "base_uri": "https://localhost:8080/"
        },
        "id": "W4fkupnKNf4X",
        "outputId": "9a897f2f-ec37-4dd2-88e9-d8c9ceaa8d3d"
      },
      "execution_count": null,
      "outputs": [
        {
          "output_type": "execute_result",
          "data": {
            "text/plain": [
              "array([0.1736091 , 0.16996133, 0.18830954, 0.20178678, 0.20316291,\n",
              "       0.21061135, 0.20908237, 0.2022236 , 0.20674514, 0.20150281,\n",
              "       0.20600248, 0.19951508, 0.19724337, 0.21393155, 0.21349466,\n",
              "       0.24210916, 0.25209149, 0.25646011, 0.25305259, 0.26137482,\n",
              "       0.25713724, 0.27533254, 0.27943906, 0.28815444, 0.29175861,\n",
              "       0.27854348, 0.27673053, 0.27865273, 0.28385134, 0.31901878,\n",
              "       0.34728379, 0.34533979, 0.34188853, 0.37373584, 0.39946704,\n",
              "       0.39658373, 0.38708196, 0.32895744, 0.36152555, 0.34186674,\n",
              "       0.35285382, 0.34413837, 0.35888248, 0.34215064, 0.35934124,\n",
              "       0.38087852, 0.40429435, 0.39699876, 0.40359536, 0.39234616,\n",
              "       0.35368381, 0.36390644, 0.31803588, 0.30853411, 0.28472512,\n",
              "       0.27777896, 0.28129573, 0.26963151, 0.28175442, 0.28223497,\n",
              "       0.26502258, 0.22079026, 0.22622924, 0.22826063, 0.24162861,\n",
              "       0.23854872, 0.25565193, 0.25763959, 0.24842179, 0.25224434,\n",
              "       0.24462111, 0.23466065, 0.22631656, 0.20209255, 0.19344269,\n",
              "       0.18107948, 0.20499772, 0.22747425, 0.24149756, 0.22998626,\n",
              "       0.27290798, 0.28548958, 0.29403024, 0.29304734, 0.29946923,\n",
              "       0.29226096, 0.28334899, 0.23437668, 0.24590985, 0.25075902,\n",
              "       0.25016928, 0.26659529, 0.29721939, 0.29328759, 0.28544591,\n",
              "       0.25440685, 0.29219543, 0.29068825, 0.28719334, 0.27808479,\n",
              "       0.29647666, 0.2960835 , 0.31454097, 0.32072254, 0.3063498 ,\n",
              "       0.32229525, 0.3129246 , 0.31272795, 0.28345818, 0.25659117,\n",
              "       0.25167646, 0.26611473, 0.2009786 , 0.19051572, 0.23083811,\n",
              "       0.21679299, 0.24577879, 0.28575175, 0.24645592, 0.21578823,\n",
              "       0.20895132, 0.21685852, 0.14842398, 0.17253881, 0.14405536,\n",
              "       0.11131253, 0.11343132, 0.14831479, 0.18239008, 0.16430397,\n",
              "       0.1781525 , 0.16810465, 0.20449531, 0.18356962, 0.15200628,\n",
              "       0.13147376, 0.13219456, 0.11544092, 0.12271465, 0.11430503,\n",
              "       0.08020795, 0.07230075, 0.06170682, 0.05447675, 0.06017778,\n",
              "       0.07153623, 0.10652889, 0.1198532 , 0.11413032, 0.12323886,\n",
              "       0.0905397 , 0.1070313 , 0.06828162, 0.07824208, 0.06867478,\n",
              "       0.0895568 , 0.09204688, 0.07199491, 0.06317027, 0.08095061,\n",
              "       0.071842  , 0.0583211 , 0.02732573, 0.        , 0.04322752,\n",
              "       0.04737774, 0.04849169, 0.07378607, 0.07378607, 0.08151855,\n",
              "       0.13911885, 0.17793406, 0.1887027 , 0.18802557, 0.19829187,\n",
              "       0.22653501, 0.21637797, 0.26377757, 0.25667856, 0.26061029,\n",
              "       0.22983334, 0.19938402, 0.19245972, 0.20268235, 0.22753977,\n",
              "       0.2223193 , 0.20755333, 0.23324086, 0.23070705, 0.23147157,\n",
              "       0.2565693 , 0.26633318, 0.25842598, 0.2420873 , 0.24833447,\n",
              "       0.24431534, 0.27541993, 0.25750854, 0.27345406, 0.26864855,\n",
              "       0.27967936, 0.27528887, 0.26886699, 0.28208205, 0.28402612,\n",
              "       0.28634149, 0.28175442, 0.27133527, 0.26963151, 0.25591404,\n",
              "       0.26303485, 0.27463354, 0.25932156, 0.25276862, 0.27299531,\n",
              "       0.26733795, 0.27812845, 0.27290798, 0.27867453, 0.28299949,\n",
              "       0.27282059, 0.30873069, 0.3145191 , 0.27769163, 0.28909374,\n",
              "       0.27541993, 0.26100345, 0.26371198, 0.26797142, 0.29068825,\n",
              "       0.29234835, 0.2967825 , 0.29269785, 0.28747731, 0.27856534,\n",
              "       0.28577355, 0.28404799, 0.29219543, 0.25613248, 0.25117405,\n",
              "       0.27430591, 0.26399595, 0.27624998, 0.31336142, 0.32330008,\n",
              "       0.30656824, 0.29368075, 0.3079225 , 0.30132584, 0.29850813,\n",
              "       0.31657236, 0.31711844, 0.33015879, 0.31626659, 0.29833334,\n",
              "       0.28503089, 0.28149231, 0.27775716, 0.24328871, 0.24405317,\n",
              "       0.26454203, 0.27397827, 0.26336255, 0.24951395, 0.26296932,\n",
              "       0.27489571, 0.25846964, 0.2632315 , 0.26469495, 0.25187304,\n",
              "       0.25768332, 0.23896375, 0.22443809, 0.26106898, 0.26615846,\n",
              "       0.26921649, 0.2773858 , 0.25803282, 0.25641638, 0.24394398,\n",
              "       0.23929138, 0.23120947, 0.25499659, 0.26919462, 0.28317421,\n",
              "       0.2868657 , 0.29560295, 0.29960028, 0.27614072, 0.28029097,\n",
              "       0.29737224, 0.29147464, 0.30737643, 0.30918938, 0.32292872,\n",
              "       0.32037305, 0.31078395, 0.31901878, 0.32135601, 0.31807954,\n",
              "       0.30442759, 0.28990193, 0.28856946, 0.28081518, 0.19949321,\n",
              "       0.17740985, 0.1676241 , 0.16037217, 0.18361328, 0.2022236 ,\n",
              "       0.22258141, 0.21585376, 0.20106592, 0.19464403, 0.18702081,\n",
              "       0.18555729, 0.16109303, 0.16648828, 0.15379744, 0.17915727,\n",
              "       0.16393261, 0.16808279, 0.17125007, 0.14248265, 0.13516526,\n",
              "       0.15054277, 0.16491558, 0.14222054, 0.13964307, 0.13772086,\n",
              "       0.12572901, 0.13346149, 0.12483343, 0.1264498 , 0.13739323,\n",
              "       0.13077477, 0.12103275, 0.12590373, 0.12968261, 0.12295496,\n",
              "       0.1320635 , 0.1181931 , 0.11880471, 0.12009345, 0.13164848,\n",
              "       0.13195431, 0.14136869, 0.12599112, 0.11515695, 0.08053558,\n",
              "       0.06998538, 0.04523709, 0.06742971, 0.0642843 , 0.06378188,\n",
              "       0.07369867, 0.07797991, 0.07459425, 0.07485636, 0.0849916 ,\n",
              "       0.08863936, 0.08047006, 0.0735021 , 0.10178897, 0.10714049,\n",
              "       0.11281972, 0.1100238 , 0.11445795, 0.12990105, 0.09047418,\n",
              "       0.09648104, 0.07166728, 0.0816714 , 0.08217382, 0.09379437,\n",
              "       0.10480326, 0.10338347, 0.12575087, 0.11692623, 0.11561563,\n",
              "       0.12883069, 0.1182805 , 0.11950371, 0.12164436, 0.12601298,\n",
              "       0.131714  , 0.12697408, 0.10753365, 0.12175354, 0.13357068,\n",
              "       0.15004042, 0.15010594, 0.15569778, 0.16996133, 0.16731833,\n",
              "       0.17839275, 0.17170876, 0.1792228 , 0.17644874, 0.16624798,\n",
              "       0.15788209, 0.15386296, 0.15067382, 0.16048143, 0.1498875 ,\n",
              "       0.12939864, 0.14208949, 0.14101919, 0.14115025, 0.15362265,\n",
              "       0.1782399 , 0.18986039, 0.21480526, 0.22502783, 0.21672747,\n",
              "       0.21694591, 0.21570084, 0.20796835, 0.19534303, 0.19591097,\n",
              "       0.20954106, 0.20100039, 0.2226906 , 0.21159432, 0.23018284,\n",
              "       0.2223193 , 0.20788096, 0.22944018, 0.22893776, 0.22976781,\n",
              "       0.22878485, 0.23107841, 0.22767083, 0.20121884, 0.25276862,\n",
              "       0.26054477, 0.23809004, 0.25040953, 0.23870164, 0.24870576,\n",
              "       0.24291735, 0.27111683, 0.29516613, 0.29660778, 0.29066645,\n",
              "       0.29027322, 0.29966581, 0.30538869, 0.31919356, 0.32222972,\n",
              "       0.32004541, 0.33616565, 0.3326926 , 0.33227757, 0.31932462,\n",
              "       0.294489  , 0.27568203, 0.3175116 , 0.30106373, 0.29520979,\n",
              "       0.3214652 , 0.29464185, 0.32745026, 0.30340096, 0.29507874,\n",
              "       0.24597537, 0.28450667, 0.25346761, 0.17773748, 0.22371723,\n",
              "       0.14189291, 0.18756688, 0.17821803, 0.21439024, 0.21613766,\n",
              "       0.27607519, 0.26963151, 0.23701975, 0.28201653, 0.26919462,\n",
              "       0.2994255 , 0.30934229, 0.28439742, 0.29750329, 0.27932987,\n",
              "       0.31908431, 0.30230881, 0.299775  , 0.29890128, 0.3556934 ,\n",
              "       0.39245535, 0.4212883 , 0.44841749, 0.41300974, 0.44474779,\n",
              "       0.4367532 , 0.40964594, 0.42117911, 0.41744389, 0.40955855,\n",
              "       0.37122383, 0.38882945, 0.40621656, 0.39621237, 0.42434632,\n",
              "       0.41676676, 0.43769251, 0.44265087, 0.44051022, 0.45136626,\n",
              "       0.43236278, 0.44645155, 0.45448987, 0.48122583, 0.47770906,\n",
              "       0.47434526, 0.46698414, 0.44203927, 0.426902  , 0.39512021,\n",
              "       0.40630395, 0.39221511, 0.40595445, 0.41947535, 0.42251151,\n",
              "       0.41084729, 0.39415911, 0.40567048, 0.40543017, 0.43723375,\n",
              "       0.43817306, 0.41868896, 0.40232848, 0.41855791, 0.44177716,\n",
              "       0.46720252, 0.47178959, 0.4801992 , 0.51147857, 0.5075905 ,\n",
              "       0.48922042, 0.50682598, 0.45765709, 0.46604484, 0.48308251,\n",
              "       0.54992248, 0.53080975, 0.56776828, 0.56634849, 0.58736156,\n",
              "       0.59823946, 0.68773067, 0.63698914, 0.63563487, 0.6320963 ,\n",
              "       0.64111752, 0.56597712, 0.58655338, 0.5596645 , 0.55905289,\n",
              "       0.53231686, 0.5385859 , 0.5717874 , 0.55619145, 0.54738867,\n",
              "       0.55027191, 0.55699963, 0.57827481, 0.60234598, 0.58589804,\n",
              "       0.6011227 , 0.56977787, 0.54498591, 0.50905395, 0.527708  ,\n",
              "       0.54050804, 0.54345687, 0.54273608, 0.5635307 , 0.54749786,\n",
              "       0.57670211, 0.56449181, 0.55684672, 0.56071292, 0.6851096 ,\n",
              "       0.6386711 , 0.63347243, 0.64585744, 0.70481201, 0.69670829,\n",
              "       0.63753522, 0.61634736, 0.59662302, 0.5817042 , 0.53906645,\n",
              "       0.54203708, 0.52943362, 0.57253006, 0.54603434, 0.51619669,\n",
              "       0.51567241, 0.55365764, 0.56200172, 0.5170922 , 0.52248746,\n",
              "       0.54389376, 0.56086584, 0.56704748, 0.5813547 , 0.64137963,\n",
              "       0.58797317, 0.62639528, 0.59411108, 0.65699738, 0.65072841,\n",
              "       0.66743845, 0.66824664, 0.69943868, 0.67182894, 0.67289924,\n",
              "       0.6485441 , 0.64839118, 0.63681436, 0.55737093, 0.54902691,\n",
              "       0.55568903, 0.55560164, 0.55710882, 0.55123302, 0.59048511,\n",
              "       0.52829774, 0.54660228, 0.55337367, 0.57462705, 0.61134533,\n",
              "       0.61346405, 0.51685196, 0.53812714, 0.56110615, 0.5523907 ,\n",
              "       0.54380637, 0.53563706, 0.53897906, 0.54151287, 0.5478037 ,\n",
              "       0.55560164, 0.53021994, 0.54389376, 0.54852449, 0.56241668,\n",
              "       0.5609751 , 0.5912933 , 0.58867216, 0.57587206, 0.57759768,\n",
              "       0.61575769, 0.60894251, 0.56730959, 0.58367007, 0.58832266,\n",
              "       0.63026142, 0.62449493, 0.63552569, 0.6531531 , 0.65653876,\n",
              "       0.64443758, 0.64098647, 0.61291797, 0.61180395, 0.62305321,\n",
              "       0.64871888, 0.63500147, 0.67025617, 0.63122252, 0.62672284,\n",
              "       0.58235947, 0.60070774, 0.60400601, 0.57932331, 0.56872938,\n",
              "       0.59830499, 0.58316765, 0.57687689, 0.58515538, 0.76988276,\n",
              "       0.75568473, 0.72364077, 0.70531449, 0.71656362, 0.63214003,\n",
              "       0.66560358, 0.65203908, 0.66656468, 0.68648559, 0.66746032,\n",
              "       0.69522284, 0.69223035, 0.68596138, 0.71031652, 0.72018965,\n",
              "       0.70708378, 0.70474655, 0.70640664, 0.69343183, 0.68661665,\n",
              "       0.66914215, 0.65507531, 0.68209524, 0.69795323, 0.68329658,\n",
              "       0.66614965, 0.69190278, 0.685743  , 0.62650446, 0.60595008,\n",
              "       0.61709009, 0.56671978, 0.59535615, 0.59120597, 0.63165941,\n",
              "       0.62065053, 0.6255215 , 0.63377826, 0.63467377, 0.59175205,\n",
              "       0.60789408, 0.6317686 , 0.65793675, 0.62674471, 0.58753627,\n",
              "       0.59887286, 0.61176036, 0.61053715, 0.62860132, 0.66739473,\n",
              "       0.67012512, 0.67855666, 0.68392999, 0.70050898, 0.70210348,\n",
              "       0.69657724, 0.69865223, 0.6687054 , 0.68880096, 0.68294702,\n",
              "       0.70020314, 0.68956555, 0.60072954])"
            ]
          },
          "metadata": {},
          "execution_count": 8
        }
      ]
    },
    {
      "cell_type": "code",
      "source": [
        "x_train= np.reshape(x_train, (x_train.shape[0],x_train.shape[1],1))\n",
        "x_train.shape"
      ],
      "metadata": {
        "colab": {
          "base_uri": "https://localhost:8080/"
        },
        "id": "695T0lRVPBL-",
        "outputId": "46d361ac-b0fd-4223-aa07-2bf3cf2a44ef"
      },
      "execution_count": null,
      "outputs": [
        {
          "output_type": "execute_result",
          "data": {
            "text/plain": [
              "(748, 60, 1)"
            ]
          },
          "metadata": {},
          "execution_count": 9
        }
      ]
    },
    {
      "cell_type": "code",
      "source": [
        "#LSTM model\n",
        "model = Sequential()\n",
        "model.add(LSTM(50,return_sequences=True,input_shape=(x_train.shape[1],1)))\n",
        "model.add(LSTM(50,return_sequences=False))\n",
        "model.add(Dense(25))\n",
        "model.add(Dense(1))"
      ],
      "metadata": {
        "id": "DLA1JU22PYny"
      },
      "execution_count": null,
      "outputs": []
    },
    {
      "cell_type": "code",
      "source": [
        "#compile the model\n",
        "model.compile(optimizer='adam',loss='mean_squared_error')"
      ],
      "metadata": {
        "id": "2UplNsUpRIqt"
      },
      "execution_count": null,
      "outputs": []
    },
    {
      "cell_type": "code",
      "source": [
        "#train the model\n",
        "model.fit(x_train,y_train,batch_size=1,epochs=1)"
      ],
      "metadata": {
        "colab": {
          "base_uri": "https://localhost:8080/"
        },
        "id": "N-KHZAClRcU-",
        "outputId": "b87acf27-40fb-441a-8a66-d0c506921a4b"
      },
      "execution_count": null,
      "outputs": [
        {
          "output_type": "stream",
          "name": "stdout",
          "text": [
            "748/748 [==============================] - 29s 34ms/step - loss: 0.0034\n"
          ]
        },
        {
          "output_type": "execute_result",
          "data": {
            "text/plain": [
              "<keras.callbacks.History at 0x7f0f34245dc0>"
            ]
          },
          "metadata": {},
          "execution_count": 12
        }
      ]
    },
    {
      "cell_type": "code",
      "source": [
        "#create the test dataset\n",
        "#new array containing scaled values from 748 to 1009\n",
        "test_data = scaled_data[training_data_len - 60: , :]\n",
        "x_test = []\n",
        "y_test = dataset[training_data_len:, :]\n",
        "for i in range(60, len(test_data)):\n",
        "  x_test.append(test_data[i-60:i,0])"
      ],
      "metadata": {
        "id": "ZwTqDi3GR3aB"
      },
      "execution_count": null,
      "outputs": []
    },
    {
      "cell_type": "code",
      "source": [
        "#convert data into numpy array\n",
        "x_test = np.array(x_test)"
      ],
      "metadata": {
        "id": "QWsemlIPS-8X"
      },
      "execution_count": null,
      "outputs": []
    },
    {
      "cell_type": "code",
      "source": [
        "#reshape the data\n",
        "x_test= np.reshape(x_test, (x_test.shape[0],x_test.shape[1],1))"
      ],
      "metadata": {
        "id": "_DXElio_TOE5"
      },
      "execution_count": null,
      "outputs": []
    },
    {
      "cell_type": "code",
      "source": [
        "#get the models predicted price values\n",
        "predictions = model.predict(x_test)\n",
        "predictions = scaler.inverse_transform(predictions)"
      ],
      "metadata": {
        "id": "f29_ItzVTzX8",
        "colab": {
          "base_uri": "https://localhost:8080/"
        },
        "outputId": "467abcec-5acc-4a41-950d-a006e62db19b"
      },
      "execution_count": null,
      "outputs": [
        {
          "output_type": "stream",
          "name": "stdout",
          "text": [
            "7/7 [==============================] - 2s 25ms/step\n"
          ]
        }
      ]
    },
    {
      "cell_type": "code",
      "source": [
        "#RMS error\n",
        "rmse = np.sqrt(np.mean(predictions - y_test)**2)\n",
        "rmse"
      ],
      "metadata": {
        "colab": {
          "base_uri": "https://localhost:8080/"
        },
        "id": "x9rD1RWMUKGZ",
        "outputId": "2fbbe776-fd11-4d00-982d-0ec80e372f95"
      },
      "execution_count": null,
      "outputs": [
        {
          "output_type": "execute_result",
          "data": {
            "text/plain": [
              "17.792027541482042"
            ]
          },
          "metadata": {},
          "execution_count": 17
        }
      ]
    },
    {
      "cell_type": "code",
      "source": [
        "#plot the graph\n",
        "train = data[:training_data_len]\n",
        "valid = data[training_data_len:]\n",
        "valid['Predictions']= predictions"
      ],
      "metadata": {
        "colab": {
          "base_uri": "https://localhost:8080/"
        },
        "id": "1nRU4_i8UdrW",
        "outputId": "a119643d-3586-4970-8493-a56f13bcb674"
      },
      "execution_count": null,
      "outputs": [
        {
          "output_type": "stream",
          "name": "stderr",
          "text": [
            "<ipython-input-18-dce1cd2ed6a8>:4: SettingWithCopyWarning: \n",
            "A value is trying to be set on a copy of a slice from a DataFrame.\n",
            "Try using .loc[row_indexer,col_indexer] = value instead\n",
            "\n",
            "See the caveats in the documentation: https://pandas.pydata.org/pandas-docs/stable/user_guide/indexing.html#returning-a-view-versus-a-copy\n",
            "  valid['Predictions']= predictions\n"
          ]
        }
      ]
    },
    {
      "cell_type": "code",
      "source": [
        "#visualize the data\n",
        "plt.figure(figsize=(8,4))\n",
        "plt.title('Model')\n",
        "plt.xlabel('Date',fontsize=18)\n",
        "plt.ylabel('Close Price',fontsize=18)\n",
        "plt.plot(train['Close'])\n",
        "plt.plot(valid[['Close','Predictions']])\n",
        "plt.legend(['Train','Val','Predictions'],loc='lower right')"
      ],
      "metadata": {
        "colab": {
          "base_uri": "https://localhost:8080/",
          "height": 343
        },
        "id": "d3S8m7GTfvAs",
        "outputId": "52fb904b-4d2a-4294-f033-4f054bed6acc"
      },
      "execution_count": null,
      "outputs": [
        {
          "output_type": "execute_result",
          "data": {
            "text/plain": [
              "<matplotlib.legend.Legend at 0x7f0f34726eb0>"
            ]
          },
          "metadata": {},
          "execution_count": 19
        },
        {
          "output_type": "display_data",
          "data": {
            "text/plain": [
              "<Figure size 576x288 with 1 Axes>"
            ],
            "image/png": "[encoded data removed]"
          },
          "metadata": {}
        }
      ]
    },
    {
      "cell_type": "code",
      "source": [
        "#valid and predicted prices\n",
        "valid"
      ],
      "metadata": {
        "colab": {
          "base_uri": "https://localhost:8080/",
          "height": 424
        },
        "id": "Nbtz83E7V5N-",
        "outputId": "46a9d060-2e66-4870-be83-45ea39fc29b1"
      },
      "execution_count": null,
      "outputs": [
        {
          "output_type": "execute_result",
          "data": {
            "text/plain": [
              "           Close  Predictions\n",
              "808   508.779999   560.100769\n",
              "809   505.549988   554.037415\n",
              "810   510.299988   547.365051\n",
              "811   505.549988   541.651672\n",
              "812   506.519989   536.510925\n",
              "...          ...          ...\n",
              "1004  427.140015   425.877197\n",
              "1005  457.130005   420.703857\n",
              "1006  429.480011   423.526489\n",
              "1007  405.600006   427.368713\n",
              "1008  410.170013   428.851105\n",
              "\n",
              "[201 rows x 2 columns]"
            ],
            "text/html": [
              "\n",
              "  <div id=\"df-fc8e9c54-2fd1-44d1-9262-ad2c45691eab\">\n",
              "    <div class=\"colab-df-container\">\n",
              "      <div>\n",
              "<style scoped>\n",
              "    .dataframe tbody tr th:only-of-type {\n",
              "        vertical-align: middle;\n",
              "    }\n",
              "\n",
              "    .dataframe tbody tr th {\n",
              "        vertical-align: top;\n",
              "    }\n",
              "\n",
              "    .dataframe thead th {\n",
              "        text-align: right;\n",
              "    }\n",
              "</style>\n",
              "<table border=\"1\" class=\"dataframe\">\n",
              "  <thead>\n",
              "    <tr style=\"text-align: right;\">\n",
              "      <th></th>\n",
              "      <th>Close</th>\n",
              "      <th>Predictions</th>\n",
              "    </tr>\n",
              "  </thead>\n",
              "  <tbody>\n",
              "    <tr>\n",
              "      <th>808</th>\n",
              "      <td>508.779999</td>\n",
              "      <td>560.100769</td>\n",
              "    </tr>\n",
              "    <tr>\n",
              "      <th>809</th>\n",
              "      <td>505.549988</td>\n",
              "      <td>554.037415</td>\n",
              "    </tr>\n",
              "    <tr>\n",
              "      <th>810</th>\n",
              "      <td>510.299988</td>\n",
              "      <td>547.365051</td>\n",
              "    </tr>\n",
              "    <tr>\n",
              "      <th>811</th>\n",
              "      <td>505.549988</td>\n",
              "      <td>541.651672</td>\n",
              "    </tr>\n",
              "    <tr>\n",
              "      <th>812</th>\n",
              "      <td>506.519989</td>\n",
              "      <td>536.510925</td>\n",
              "    </tr>\n",
              "    <tr>\n",
              "      <th>...</th>\n",
              "      <td>...</td>\n",
              "      <td>...</td>\n",
              "    </tr>\n",
              "    <tr>\n",
              "      <th>1004</th>\n",
              "      <td>427.140015</td>\n",
              "      <td>425.877197</td>\n",
              "    </tr>\n",
              "    <tr>\n",
              "      <th>1005</th>\n",
              "      <td>457.130005</td>\n",
              "      <td>420.703857</td>\n",
              "    </tr>\n",
              "    <tr>\n",
              "      <th>1006</th>\n",
              "      <td>429.480011</td>\n",
              "      <td>423.526489</td>\n",
              "    </tr>\n",
              "    <tr>\n",
              "      <th>1007</th>\n",
              "      <td>405.600006</td>\n",
              "      <td>427.368713</td>\n",
              "    </tr>\n",
              "    <tr>\n",
              "      <th>1008</th>\n",
              "      <td>410.170013</td>\n",
              "      <td>428.851105</td>\n",
              "    </tr>\n",
              "  </tbody>\n",
              "</table>\n",
              "<p>201 rows × 2 columns</p>\n",
              "</div>\n",
              "      <button class=\"colab-df-convert\" onclick=\"convertToInteractive('df-fc8e9c54-2fd1-44d1-9262-ad2c45691eab')\"\n",
              "              title=\"Convert this dataframe to an interactive table.\"\n",
              "              style=\"display:none;\">\n",
              "        \n",
              "  <svg xmlns=\"http://www.w3.org/2000/svg\" height=\"24px\"viewBox=\"0 0 24 24\"\n",
              "       width=\"24px\">\n",
              "    <path d=\"M0 0h24v24H0V0z\" fill=\"none\"/>\n",
              "    <path d=\"M18.56 5.44l.94 2.06.94-2.06 2.06-.94-2.06-.94-.94-2.06-.94 2.06-2.06.94zm-11 1L8.5 8.5l.94-2.06 2.06-.94-2.06-.94L8.5 2.5l-.94 2.06-2.06.94zm10 10l.94 2.06.94-2.06 2.06-.94-2.06-.94-.94-2.06-.94 2.06-2.06.94z\"/><path d=\"M17.41 7.96l-1.37-1.37c-.4-.4-.92-.59-1.43-.59-.52 0-1.04.2-1.43.59L10.3 9.45l-7.72 7.72c-.78.78-.78 2.05 0 2.83L4 21.41c.39.39.9.59 1.41.59.51 0 1.02-.2 1.41-.59l7.78-7.78 2.81-2.81c.8-.78.8-2.07 0-2.86zM5.41 20L4 18.59l7.72-7.72 1.47 1.35L5.41 20z\"/>\n",
              "  </svg>\n",
              "      </button>\n",
              "      \n",
              "  <style>\n",
              "    .colab-df-container {\n",
              "      display:flex;\n",
              "      flex-wrap:wrap;\n",
              "      gap: 12px;\n",
              "    }\n",
              "\n",
              "    .colab-df-convert {\n",
              "      background-color: #E8F0FE;\n",
              "      border: none;\n",
              "      border-radius: 50%;\n",
              "      cursor: pointer;\n",
              "      display: none;\n",
              "      fill: #1967D2;\n",
              "      height: 32px;\n",
              "      padding: 0 0 0 0;\n",
              "      width: 32px;\n",
              "    }\n",
              "\n",
              "    .colab-df-convert:hover {\n",
              "      background-color: #E2EBFA;\n",
              "      box-shadow: 0px 1px 2px rgba(60, 64, 67, 0.3), 0px 1px 3px 1px rgba(60, 64, 67, 0.15);\n",
              "      fill: #174EA6;\n",
              "    }\n",
              "\n",
              "    [theme=dark] .colab-df-convert {\n",
              "      background-color: #3B4455;\n",
              "      fill: #D2E3FC;\n",
              "    }\n",
              "\n",
              "    [theme=dark] .colab-df-convert:hover {\n",
              "      background-color: #434B5C;\n",
              "      box-shadow: 0px 1px 3px 1px rgba(0, 0, 0, 0.15);\n",
              "      filter: drop-shadow(0px 1px 2px rgba(0, 0, 0, 0.3));\n",
              "      fill: #FFFFFF;\n",
              "    }\n",
              "  </style>\n",
              "\n",
              "      <script>\n",
              "        const buttonEl =\n",
              "          document.querySelector('#df-fc8e9c54-2fd1-44d1-9262-ad2c45691eab button.colab-df-convert');\n",
              "        buttonEl.style.display =\n",
              "          google.colab.kernel.accessAllowed ? 'block' : 'none';\n",
              "\n",
              "        async function convertToInteractive(key) {\n",
              "          const element = document.querySelector('#df-fc8e9c54-2fd1-44d1-9262-ad2c45691eab');\n",
              "          const dataTable =\n",
              "            await google.colab.kernel.invokeFunction('convertToInteractive',\n",
              "                                                     [key], {});\n",
              "          if (!dataTable) return;\n",
              "\n",
              "          const docLinkHtml = 'Like what you see? Visit the ' +\n",
              "            '<a target=\"_blank\" href=https://colab.research.google.com/notebooks/data_table.ipynb>data table notebook</a>'\n",
              "            + ' to learn more about interactive tables.';\n",
              "          element.innerHTML = '';\n",
              "          dataTable['output_type'] = 'display_data';\n",
              "          await google.colab.output.renderOutput(dataTable, element);\n",
              "          const docLink = document.createElement('div');\n",
              "          docLink.innerHTML = docLinkHtml;\n",
              "          element.appendChild(docLink);\n",
              "        }\n",
              "      </script>\n",
              "    </div>\n",
              "  </div>\n",
              "  "
            ]
          },
          "metadata": {},
          "execution_count": 20
        }
      ]
    },
    {
      "cell_type": "code",
      "source": [
        "#quote\n",
        "stock_quote = pd.read_csv(path)\n",
        "#new dataframe\n",
        "new_df =stock_quote.filter(['Close'])\n",
        "#convert last 60 days closing price values into numpy array\n",
        "last_60_days = new_df[-60:].values\n",
        "last_60_days_scaled= scaler.transform(last_60_days)\n",
        "X_test= []\n",
        "X_test.append(last_60_days_scaled)\n",
        "X_test = np.array(X_test)\n",
        "X_test = np.reshape(X_test,(X_test.shape[0], X_test.shape[1],1))\n",
        "#predicted scaled price\n",
        "pred_price = model.predict(X_test)\n",
        "#undo scaling\n",
        "pred_price = scaler.inverse_transform(pred_price)\n",
        "#predicted price for the next day to the last day in the data set\n",
        "pred_price"
      ],
      "metadata": {
        "colab": {
          "base_uri": "https://localhost:8080/"
        },
        "id": "v3S59-AjWFcH",
        "outputId": "b92dfbc9-fca0-47ab-9f43-19f9b46b14ab"
      },
      "execution_count": null,
      "outputs": [
        {
          "output_type": "stream",
          "name": "stdout",
          "text": [
            "1/1 [==============================] - 0s 72ms/step\n"
          ]
        },
        {
          "output_type": "execute_result",
          "data": {
            "text/plain": [
              "array([[429.38016]], dtype=float32)"
            ]
          },
          "metadata": {},
          "execution_count": 21
        }
      ]
    },
    {
      "cell_type": "code",
      "source": [
        "X_test_prediction = model.predict(X_test)\n",
        "test_data_accuracy = r2_score(y_test, predictions)\n",
        "print(test_data_accuracy)"
      ],
      "metadata": {
        "id": "Sk0u9pp2cp8J",
        "colab": {
          "base_uri": "https://localhost:8080/"
        },
        "outputId": "089a6f08-b5e4-49ab-a699-630b2dcfa264"
      },
      "execution_count": null,
      "outputs": [
        {
          "output_type": "stream",
          "name": "stdout",
          "text": [
            "1/1 [==============================] - 0s 52ms/step\n"
          ]
        }
      ]
    },
    {
      "cell_type": "markdown",
      "source": [
        "ENHANCED VERSION\n",
        "improvements:\n",
        "\n",
        "Updated import statements for the latest TensorFlow library.\n",
        "\n",
        "Uses the Adam optimizer with a learning rate of 0.001 for better optimization.\n",
        "\n",
        "Uses model.fit instead of model.compile and model.fit separately.\n",
        "\n",
        "Uses the latest TensorFlow naming conventions for the optimizer.\n",
        "\n",
        "Adds comments to clarify the purpose of different code sections."
      ],
      "metadata": {
        "id": "OJXnKa2UY9K6"
      }
    },
    {
      "cell_type": "code",
      "source": [
        "import math\n",
        "import numpy as np\n",
        "import pandas as pd\n",
        "import matplotlib.pyplot as plt\n",
        "from sklearn.preprocessing import MinMaxScaler\n",
        "from sklearn.metrics import r2_score\n",
        "from tensorflow.keras.models import Sequential\n",
        "from tensorflow.keras.layers import LSTM, Dense\n",
        "from tensorflow.keras.optimizers import Adam\n",
        "\n",
        "# Load the dataset\n",
        "path = '/content/drive/MyDrive/dataset/1613615-Stock_Price_data_set.csv'\n",
        "df = pd.read_csv(path)\n",
        "\n",
        "# Preprocess the data\n",
        "data = df.filter(['Close'])\n",
        "dataset = data.values\n",
        "scaler = MinMaxScaler(feature_range=(0, 1))\n",
        "scaled_data = scaler.fit_transform(dataset)\n",
        "\n",
        "# Split the data into train and test sets\n",
        "training_data_len = math.ceil(len(dataset) * 0.8)\n",
        "train_data = scaled_data[:training_data_len, :]\n",
        "test_data = scaled_data[training_data_len - 60:, :]\n",
        "\n",
        "# Prepare the training data\n",
        "x_train, y_train = [], []\n",
        "for i in range(60, len(train_data)):\n",
        "    x_train.append(train_data[i - 60:i, 0])\n",
        "    y_train.append(train_data[i, 0])\n",
        "x_train, y_train = np.array(x_train), np.array(y_train)\n",
        "x_train = np.reshape(x_train, (x_train.shape[0], x_train.shape[1], 1))\n",
        "\n",
        "# Create and train the LSTM model\n",
        "model = Sequential()\n",
        "model.add(LSTM(50, return_sequences=True, input_shape=(x_train.shape[1], 1)))\n",
        "model.add(LSTM(50, return_sequences=False))\n",
        "model.add(Dense(25))\n",
        "model.add(Dense(1))\n",
        "\n",
        "model.compile(optimizer=Adam(learning_rate=0.001), loss='mean_squared_error')\n",
        "model.fit(x_train, y_train, batch_size=1, epochs=1)\n",
        "\n",
        "# Prepare the test data\n",
        "x_test, y_test = [], []\n",
        "for i in range(60, len(test_data)):\n",
        "    x_test.append(test_data[i - 60:i, 0])\n",
        "    y_test.append(dataset[training_data_len , 0])\n",
        "x_test = np.array(x_test)\n",
        "x_test = np.reshape(x_test, (x_test.shape[0], x_test.shape[1], 1))\n",
        "\n",
        "# Make predictions on the test data\n",
        "predictions = model.predict(x_test)\n",
        "predictions = scaler.inverse_transform(predictions)\n",
        "\n",
        "# Calculate RMSE\n",
        "rmse = np.sqrt(np.mean((predictions - y_test)**2))\n",
        "print(\"Root Mean Squared Error (RMSE):\", rmse)\n",
        "\n",
        "# Plot the predictions and actual prices\n",
        "train = data[:training_data_len]\n",
        "valid = data[training_data_len:]\n",
        "valid['Predictions'] = predictions\n",
        "\n",
        "plt.figure(figsize=(8, 4))\n",
        "plt.title('Model')\n",
        "plt.xlabel('Date', fontsize=18)\n",
        "plt.ylabel('Close Price', fontsize=18)\n",
        "plt.plot(train['Close'])\n",
        "plt.plot(valid[['Close', 'Predictions']])\n",
        "plt.legend(['Train', 'Val', 'Predictions'], loc='lower right')\n",
        "plt.show()\n",
        "\n",
        "# Predict the next day's closing price\n",
        "last_60_days = scaled_data[-60:]\n",
        "X_test = np.array([last_60_days])\n",
        "X_test = np.reshape(X_test, (X_test.shape[0], X_test.shape[1], 1))\n",
        "\n",
        "pred_price = model.predict(X_test)\n",
        "pred_price = scaler.inverse_transform(pred_price)\n",
        "print(\"Predicted price for the next day:\", pred_price[0][0])\n",
        "\n",
        "# Calculate R-squared for test data\n",
        "test_data_accuracy = r2_score(y_test, predictions)\n",
        "print(\"R-squared for test data:\", test_data_accuracy)\n"
      ],
      "metadata": {
        "colab": {
          "base_uri": "https://localhost:8080/",
          "height": 654
        },
        "id": "Sg0DLM__Y8Wc",
        "outputId": "0add4c6b-8561-4fde-fd41-b363c462aaea"
      },
      "execution_count": null,
      "outputs": [
        {
          "output_type": "stream",
          "name": "stdout",
          "text": [
            "748/748 [==============================] - 26s 25ms/step - loss: 0.0040\n",
            "7/7 [==============================] - 1s 13ms/step\n",
            "Root Mean Squared Error (RMSE): 83.93176572469822\n"
          ]
        },
        {
          "output_type": "stream",
          "name": "stderr",
          "text": [
            "<ipython-input-2-eaefe3564aa2>:63: SettingWithCopyWarning: \n",
            "A value is trying to be set on a copy of a slice from a DataFrame.\n",
            "Try using .loc[row_indexer,col_indexer] = value instead\n",
            "\n",
            "See the caveats in the documentation: https://pandas.pydata.org/pandas-docs/stable/user_guide/indexing.html#returning-a-view-versus-a-copy\n",
            "  valid['Predictions'] = predictions\n"
          ]
        },
        {
          "output_type": "display_data",
          "data": {
            "text/plain": [
              "<Figure size 800x400 with 1 Axes>"
            ],
            "image/png": "[encoded data removed]"
          },
          "metadata": {}
        },
        {
          "output_type": "stream",
          "name": "stdout",
          "text": [
            "1/1 [==============================] - 0s 22ms/step\n",
            "Predicted price for the next day: 416.8009\n",
            "R-squared for test data: -2.1801799326949178e+30\n"
          ]
        }
      ]
    },
    {
      "cell_type": "code",
      "source": [
        "stock_quote = pd.read_csv(path)\n",
        "#new dataframe\n",
        "new_df =stock_quote.filter(['Close'])\n",
        "#convert last 60 days closing price values into numpy array\n",
        "last_60_days = new_df[-60:].values\n",
        "last_60_days_scaled= scaler.transform(last_60_days)\n",
        "X_test= []\n",
        "X_test.append(last_60_days_scaled)\n",
        "X_test = np.array(X_test)\n",
        "X_test = np.reshape(X_test,(X_test.shape[0], X_test.shape[1],1))\n",
        "#predicted scaled price\n",
        "pred_price = model.predict(X_test)\n",
        "#undo scaling\n",
        "pred_price = scaler.inverse_transform(pred_price)\n",
        "#predicted price for the next day to the last day in the data set\n",
        "pred_price"
      ],
      "metadata": {
        "colab": {
          "base_uri": "https://localhost:8080/"
        },
        "id": "duy9IoQrtA_W",
        "outputId": "44910b83-96cc-4b2b-ba5f-d09745adb5ee"
      },
      "execution_count": null,
      "outputs": [
        {
          "output_type": "stream",
          "name": "stdout",
          "text": [
            "1/1 [==============================] - 0s 29ms/step\n"
          ]
        },
        {
          "output_type": "execute_result",
          "data": {
            "text/plain": [
              "array([[419.191]], dtype=float32)"
            ]
          },
          "metadata": {},
          "execution_count": 2
        }
      ]
    },
    {
      "cell_type": "code",
      "source": [
        "import yfinance as yf\n",
        "\n",
        "# Fetch historical data for AAPL\n",
        "df = yf.download('AAPL', start='2010-01-01', end='2023-05-28')\n",
        "\n",
        "# Save the data to a CSV file\n",
        "df.to_csv('AAPL_Stock_Price.csv')\n",
        "# Preprocess the data\n",
        "data = df.filter(['Close'])\n",
        "dataset = data.values\n",
        "scaler = MinMaxScaler(feature_range=(0, 1))\n",
        "scaled_data = scaler.fit_transform(dataset)\n",
        "\n",
        "# Split the data into train and test sets\n",
        "training_data_len = math.ceil(len(dataset) * 0.8)\n",
        "train_data = scaled_data[:training_data_len, :]\n",
        "test_data = scaled_data[training_data_len - 60:, :]\n",
        "\n",
        "# Prepare the training data\n",
        "x_train, y_train = [], []\n",
        "for i in range(60, len(train_data)):\n",
        "    x_train.append(train_data[i - 60:i, 0])\n",
        "    y_train.append(train_data[i, 0])\n",
        "x_train, y_train = np.array(x_train), np.array(y_train)\n",
        "x_train = np.reshape(x_train, (x_train.shape[0], x_train.shape[1], 1))\n",
        "\n",
        "# Create and train the LSTM model\n",
        "model = Sequential()\n",
        "model.add(LSTM(50, return_sequences=True, input_shape=(x_train.shape[1], 1)))\n",
        "model.add(LSTM(50, return_sequences=False))\n",
        "model.add(Dense(25))\n",
        "model.add(Dense(1))\n",
        "\n",
        "model.compile(optimizer=Adam(learning_rate=0.001), loss='mean_squared_error')\n",
        "model.fit(x_train, y_train, batch_size=1, epochs=1)\n",
        "\n",
        "# Prepare the test data\n",
        "x_test, y_test = [], []\n",
        "for i in range(60, len(test_data)):\n",
        "    x_test.append(test_data[i - 60:i, 0])\n",
        "    y_test.append(dataset[training_data_len , 0])\n",
        "x_test = np.array(x_test)\n",
        "x_test = np.reshape(x_test, (x_test.shape[0], x_test.shape[1], 1))\n",
        "\n",
        "# Make predictions on the test data\n",
        "predictions = model.predict(x_test)\n",
        "predictions = scaler.inverse_transform(predictions)\n",
        "\n",
        "# Calculate RMSE\n",
        "rmse = np.sqrt(np.mean((predictions - y_test)**2))\n",
        "print(\"Root Mean Squared Error (RMSE):\", rmse)\n",
        "\n",
        "# Plot the predictions and actual prices\n",
        "train = data[:training_data_len]\n",
        "valid = data[training_data_len:]\n",
        "valid['Predictions'] = predictions\n",
        "\n",
        "plt.figure(figsize=(8, 4))\n",
        "plt.title('Model')\n",
        "plt.xlabel('Date', fontsize=18)\n",
        "plt.ylabel('Close Price', fontsize=18)\n",
        "plt.plot(train['Close'])\n",
        "plt.plot(valid[['Close', 'Predictions']])\n",
        "plt.legend(['Train', 'Val', 'Predictions'], loc='lower right')\n",
        "plt.show()\n",
        "\n",
        "# Predict the next day's closing price\n",
        "last_60_days = scaled_data[-60:]\n",
        "X_test = np.array([last_60_days])\n",
        "X_test = np.reshape(X_test, (X_test.shape[0], X_test.shape[1], 1))\n",
        "\n",
        "pred_price = model.predict(X_test)\n",
        "pred_price = scaler.inverse_transform(pred_price)\n",
        "print(\"Predicted price for the next day:\", pred_price[0][0])\n",
        "\n",
        "# Calculate R-squared for test data\n",
        "test_data_accuracy = r2_score(y_test, predictions)\n",
        "print(\"R-squared for test data:\", test_data_accuracy)\n"
      ],
      "metadata": {
        "colab": {
          "base_uri": "https://localhost:8080/",
          "height": 672
        },
        "id": "PatTLRg2qDQ0",
        "outputId": "f3d1a51f-1879-4080-d1be-f0b540378ab9"
      },
      "execution_count": null,
      "outputs": [
        {
          "output_type": "stream",
          "name": "stdout",
          "text": [
            "[*********************100%***********************]  1 of 1 completed\n",
            "2639/2639 [==============================] - 67s 25ms/step - loss: 5.1810e-04\n",
            "22/22 [==============================] - 1s 14ms/step\n",
            "Root Mean Squared Error (RMSE): 35.68893258884714\n"
          ]
        },
        {
          "output_type": "stream",
          "name": "stderr",
          "text": [
            "<ipython-input-3-519e2804a08b>:56: SettingWithCopyWarning: \n",
            "A value is trying to be set on a copy of a slice from a DataFrame.\n",
            "Try using .loc[row_indexer,col_indexer] = value instead\n",
            "\n",
            "See the caveats in the documentation: https://pandas.pydata.org/pandas-docs/stable/user_guide/indexing.html#returning-a-view-versus-a-copy\n",
            "  valid['Predictions'] = predictions\n"
          ]
        },
        {
          "output_type": "display_data",
          "data": {
            "text/plain": [
              "<Figure size 800x400 with 1 Axes>"
            ],
            "image/png": "[encoded data removed]"
          },
          "metadata": {}
        },
        {
          "output_type": "stream",
          "name": "stdout",
          "text": [
            "1/1 [==============================] - 0s 25ms/step\n",
            "Predicted price for the next day: 161.60358\n",
            "R-squared for test data: 0.0\n"
          ]
        }
      ]
    },
    {
      "cell_type": "code",
      "source": [
        "df"
      ],
      "metadata": {
        "colab": {
          "base_uri": "https://localhost:8080/",
          "height": 455
        },
        "id": "hOzxbGWZsgQW",
        "outputId": "1b87e7d8-1e26-42fa-8092-9e1eedfa4ef1"
      },
      "execution_count": null,
      "outputs": [
        {
          "output_type": "execute_result",
          "data": {
            "text/plain": [
              "                  Open        High         Low       Close   Adj Close  \\\n",
              "Date                                                                     \n",
              "2010-01-04    7.622500    7.660714    7.585000    7.643214    6.496294   \n",
              "2010-01-05    7.664286    7.699643    7.616071    7.656429    6.507526   \n",
              "2010-01-06    7.656429    7.686786    7.526786    7.534643    6.404014   \n",
              "2010-01-07    7.562500    7.571429    7.466071    7.520714    6.392176   \n",
              "2010-01-08    7.510714    7.571429    7.466429    7.570714    6.434672   \n",
              "...                ...         ...         ...         ...         ...   \n",
              "2023-05-22  173.979996  174.710007  173.449997  174.199997  174.199997   \n",
              "2023-05-23  173.130005  173.380005  171.279999  171.559998  171.559998   \n",
              "2023-05-24  171.089996  172.419998  170.520004  171.839996  171.839996   \n",
              "2023-05-25  172.410004  173.899994  171.690002  172.990005  172.990005   \n",
              "2023-05-26  173.320007  175.770004  173.110001  175.429993  175.429993   \n",
              "\n",
              "               Volume  \n",
              "Date                   \n",
              "2010-01-04  493729600  \n",
              "2010-01-05  601904800  \n",
              "2010-01-06  552160000  \n",
              "2010-01-07  477131200  \n",
              "2010-01-08  447610800  \n",
              "...               ...  \n",
              "2023-05-22   43570900  \n",
              "2023-05-23   50747300  \n",
              "2023-05-24   45143500  \n",
              "2023-05-25   56058300  \n",
              "2023-05-26   54835000  \n",
              "\n",
              "[3373 rows x 6 columns]"
            ],
            "text/html": [
              "\n",
              "  <div id=\"df-68e64eca-6b97-4a99-95be-f931d002b3fb\">\n",
              "    <div class=\"colab-df-container\">\n",
              "      <div>\n",
              "<style scoped>\n",
              "    .dataframe tbody tr th:only-of-type {\n",
              "        vertical-align: middle;\n",
              "    }\n",
              "\n",
              "    .dataframe tbody tr th {\n",
              "        vertical-align: top;\n",
              "    }\n",
              "\n",
              "    .dataframe thead th {\n",
              "        text-align: right;\n",
              "    }\n",
              "</style>\n",
              "<table border=\"1\" class=\"dataframe\">\n",
              "  <thead>\n",
              "    <tr style=\"text-align: right;\">\n",
              "      <th></th>\n",
              "      <th>Open</th>\n",
              "      <th>High</th>\n",
              "      <th>Low</th>\n",
              "      <th>Close</th>\n",
              "      <th>Adj Close</th>\n",
              "      <th>Volume</th>\n",
              "    </tr>\n",
              "    <tr>\n",
              "      <th>Date</th>\n",
              "      <th></th>\n",
              "      <th></th>\n",
              "      <th></th>\n",
              "      <th></th>\n",
              "      <th></th>\n",
              "      <th></th>\n",
              "    </tr>\n",
              "  </thead>\n",
              "  <tbody>\n",
              "    <tr>\n",
              "      <th>2010-01-04</th>\n",
              "      <td>7.622500</td>\n",
              "      <td>7.660714</td>\n",
              "      <td>7.585000</td>\n",
              "      <td>7.643214</td>\n",
              "      <td>6.496294</td>\n",
              "      <td>493729600</td>\n",
              "    </tr>\n",
              "    <tr>\n",
              "      <th>2010-01-05</th>\n",
              "      <td>7.664286</td>\n",
              "      <td>7.699643</td>\n",
              "      <td>7.616071</td>\n",
              "      <td>7.656429</td>\n",
              "      <td>6.507526</td>\n",
              "      <td>601904800</td>\n",
              "    </tr>\n",
              "    <tr>\n",
              "      <th>2010-01-06</th>\n",
              "      <td>7.656429</td>\n",
              "      <td>7.686786</td>\n",
              "      <td>7.526786</td>\n",
              "      <td>7.534643</td>\n",
              "      <td>6.404014</td>\n",
              "      <td>552160000</td>\n",
              "    </tr>\n",
              "    <tr>\n",
              "      <th>2010-01-07</th>\n",
              "      <td>7.562500</td>\n",
              "      <td>7.571429</td>\n",
              "      <td>7.466071</td>\n",
              "      <td>7.520714</td>\n",
              "      <td>6.392176</td>\n",
              "      <td>477131200</td>\n",
              "    </tr>\n",
              "    <tr>\n",
              "      <th>2010-01-08</th>\n",
              "      <td>7.510714</td>\n",
              "      <td>7.571429</td>\n",
              "      <td>7.466429</td>\n",
              "      <td>7.570714</td>\n",
              "      <td>6.434672</td>\n",
              "      <td>447610800</td>\n",
              "    </tr>\n",
              "    <tr>\n",
              "      <th>...</th>\n",
              "      <td>...</td>\n",
              "      <td>...</td>\n",
              "      <td>...</td>\n",
              "      <td>...</td>\n",
              "      <td>...</td>\n",
              "      <td>...</td>\n",
              "    </tr>\n",
              "    <tr>\n",
              "      <th>2023-05-22</th>\n",
              "      <td>173.979996</td>\n",
              "      <td>174.710007</td>\n",
              "      <td>173.449997</td>\n",
              "      <td>174.199997</td>\n",
              "      <td>174.199997</td>\n",
              "      <td>43570900</td>\n",
              "    </tr>\n",
              "    <tr>\n",
              "      <th>2023-05-23</th>\n",
              "      <td>173.130005</td>\n",
              "      <td>173.380005</td>\n",
              "      <td>171.279999</td>\n",
              "      <td>171.559998</td>\n",
              "      <td>171.559998</td>\n",
              "      <td>50747300</td>\n",
              "    </tr>\n",
              "    <tr>\n",
              "      <th>2023-05-24</th>\n",
              "      <td>171.089996</td>\n",
              "      <td>172.419998</td>\n",
              "      <td>170.520004</td>\n",
              "      <td>171.839996</td>\n",
              "      <td>171.839996</td>\n",
              "      <td>45143500</td>\n",
              "    </tr>\n",
              "    <tr>\n",
              "      <th>2023-05-25</th>\n",
              "      <td>172.410004</td>\n",
              "      <td>173.899994</td>\n",
              "      <td>171.690002</td>\n",
              "      <td>172.990005</td>\n",
              "      <td>172.990005</td>\n",
              "      <td>56058300</td>\n",
              "    </tr>\n",
              "    <tr>\n",
              "      <th>2023-05-26</th>\n",
              "      <td>173.320007</td>\n",
              "      <td>175.770004</td>\n",
              "      <td>173.110001</td>\n",
              "      <td>175.429993</td>\n",
              "      <td>175.429993</td>\n",
              "      <td>54835000</td>\n",
              "    </tr>\n",
              "  </tbody>\n",
              "</table>\n",
              "<p>3373 rows × 6 columns</p>\n",
              "</div>\n",
              "      <button class=\"colab-df-convert\" onclick=\"convertToInteractive('df-68e64eca-6b97-4a99-95be-f931d002b3fb')\"\n",
              "              title=\"Convert this dataframe to an interactive table.\"\n",
              "              style=\"display:none;\">\n",
              "        \n",
              "  <svg xmlns=\"http://www.w3.org/2000/svg\" height=\"24px\"viewBox=\"0 0 24 24\"\n",
              "       width=\"24px\">\n",
              "    <path d=\"M0 0h24v24H0V0z\" fill=\"none\"/>\n",
              "    <path d=\"M18.56 5.44l.94 2.06.94-2.06 2.06-.94-2.06-.94-.94-2.06-.94 2.06-2.06.94zm-11 1L8.5 8.5l.94-2.06 2.06-.94-2.06-.94L8.5 2.5l-.94 2.06-2.06.94zm10 10l.94 2.06.94-2.06 2.06-.94-2.06-.94-.94-2.06-.94 2.06-2.06.94z\"/><path d=\"M17.41 7.96l-1.37-1.37c-.4-.4-.92-.59-1.43-.59-.52 0-1.04.2-1.43.59L10.3 9.45l-7.72 7.72c-.78.78-.78 2.05 0 2.83L4 21.41c.39.39.9.59 1.41.59.51 0 1.02-.2 1.41-.59l7.78-7.78 2.81-2.81c.8-.78.8-2.07 0-2.86zM5.41 20L4 18.59l7.72-7.72 1.47 1.35L5.41 20z\"/>\n",
              "  </svg>\n",
              "      </button>\n",
              "      \n",
              "  <style>\n",
              "    .colab-df-container {\n",
              "      display:flex;\n",
              "      flex-wrap:wrap;\n",
              "      gap: 12px;\n",
              "    }\n",
              "\n",
              "    .colab-df-convert {\n",
              "      background-color: #E8F0FE;\n",
              "      border: none;\n",
              "      border-radius: 50%;\n",
              "      cursor: pointer;\n",
              "      display: none;\n",
              "      fill: #1967D2;\n",
              "      height: 32px;\n",
              "      padding: 0 0 0 0;\n",
              "      width: 32px;\n",
              "    }\n",
              "\n",
              "    .colab-df-convert:hover {\n",
              "      background-color: #E2EBFA;\n",
              "      box-shadow: 0px 1px 2px rgba(60, 64, 67, 0.3), 0px 1px 3px 1px rgba(60, 64, 67, 0.15);\n",
              "      fill: #174EA6;\n",
              "    }\n",
              "\n",
              "    [theme=dark] .colab-df-convert {\n",
              "      background-color: #3B4455;\n",
              "      fill: #D2E3FC;\n",
              "    }\n",
              "\n",
              "    [theme=dark] .colab-df-convert:hover {\n",
              "      background-color: #434B5C;\n",
              "      box-shadow: 0px 1px 3px 1px rgba(0, 0, 0, 0.15);\n",
              "      filter: drop-shadow(0px 1px 2px rgba(0, 0, 0, 0.3));\n",
              "      fill: #FFFFFF;\n",
              "    }\n",
              "  </style>\n",
              "\n",
              "      <script>\n",
              "        const buttonEl =\n",
              "          document.querySelector('#df-68e64eca-6b97-4a99-95be-f931d002b3fb button.colab-df-convert');\n",
              "        buttonEl.style.display =\n",
              "          google.colab.kernel.accessAllowed ? 'block' : 'none';\n",
              "\n",
              "        async function convertToInteractive(key) {\n",
              "          const element = document.querySelector('#df-68e64eca-6b97-4a99-95be-f931d002b3fb');\n",
              "          const dataTable =\n",
              "            await google.colab.kernel.invokeFunction('convertToInteractive',\n",
              "                                                     [key], {});\n",
              "          if (!dataTable) return;\n",
              "\n",
              "          const docLinkHtml = 'Like what you see? Visit the ' +\n",
              "            '<a target=\"_blank\" href=https://colab.research.google.com/notebooks/data_table.ipynb>data table notebook</a>'\n",
              "            + ' to learn more about interactive tables.';\n",
              "          element.innerHTML = '';\n",
              "          dataTable['output_type'] = 'display_data';\n",
              "          await google.colab.output.renderOutput(dataTable, element);\n",
              "          const docLink = document.createElement('div');\n",
              "          docLink.innerHTML = docLinkHtml;\n",
              "          element.appendChild(docLink);\n",
              "        }\n",
              "      </script>\n",
              "    </div>\n",
              "  </div>\n",
              "  "
            ]
          },
          "metadata": {},
          "execution_count": 4
        }
      ]
    },
    {
      "cell_type": "code",
      "source": [
        "df.shape"
      ],
      "metadata": {
        "colab": {
          "base_uri": "https://localhost:8080/"
        },
        "id": "RXtq2Ew_w-DJ",
        "outputId": "1fd83939-ef22-4c5b-b795-98049b372fa1"
      },
      "execution_count": null,
      "outputs": [
        {
          "output_type": "execute_result",
          "data": {
            "text/plain": [
              "(3373, 6)"
            ]
          },
          "metadata": {},
          "execution_count": 5
        }
      ]
    },
    {
      "cell_type": "code",
      "source": [
        "#closing price history\n",
        "plt.figure(figsize=(8,4))\n",
        "plt.title('Close Price History')\n",
        "plt.plot(df['Close'])\n",
        "plt.xlabel('Date',fontsize=18)\n",
        "plt.ylabel('Close Price',fontsize=18)\n",
        "plt.show()"
      ],
      "metadata": {
        "id": "IGbGUF1pxE1y",
        "outputId": "a3809cc8-a2b0-42f5-ddc6-6c964eb19f45",
        "colab": {
          "base_uri": "https://localhost:8080/",
          "height": 420
        }
      },
      "execution_count": null,
      "outputs": [
        {
          "output_type": "display_data",
          "data": {
            "text/plain": [
              "<Figure size 800x400 with 1 Axes>"
            ],
            "image/png": "[encoded data removed]"
          },
          "metadata": {}
        }
      ]
    },
    {
      "cell_type": "code",
      "source": [
        "import math\n",
        "import numpy as np\n",
        "import pandas as pd\n",
        "from sklearn.preprocessing import MinMaxScaler\n",
        "from sklearn.metrics import r2_score\n",
        "from keras.models import Sequential\n",
        "from keras.layers import Dense, LSTM\n",
        "import matplotlib.pyplot as plt\n",
        "\n",
        "plt.style.use('fivethirtyeight')\n",
        "\n",
        "# Load the dataset\n",
        "path = 'AAPL_Stock_Price.csv'\n",
        "df = pd.read_csv(path)\n",
        "\n",
        "# Select the 'Close' column as the target variable\n",
        "data = df.filter(['Close'])\n",
        "\n",
        "# Convert the dataframe to a numpy array\n",
        "dataset = data.values\n",
        "\n",
        "# Scale the data\n",
        "scaler = MinMaxScaler(feature_range=(0, 1))\n",
        "scaled_data = scaler.fit_transform(dataset)\n",
        "\n",
        "# Create training dataset\n",
        "training_data_len = math.ceil(len(dataset) * 0.8)\n",
        "train_data = scaled_data[0:training_data_len, :]\n",
        "\n",
        "# Split the data into input (x) and output (y) sets\n",
        "x_train = []\n",
        "y_train = []\n",
        "for i in range(60, len(train_data)):\n",
        "    x_train.append(train_data[i-60:i, 0])\n",
        "    y_train.append(train_data[i, 0])\n",
        "\n",
        "# Convert the x_train and y_train to numpy arrays\n",
        "x_train = np.array(x_train)\n",
        "y_train = np.array(y_train)\n",
        "\n",
        "# Reshape the data for LSTM model (input shape [samples, time steps, features])\n",
        "x_train = np.reshape(x_train, (x_train.shape[0], x_train.shape[1], 1))\n",
        "\n",
        "# Create the LSTM model\n",
        "model = Sequential()\n",
        "model.add(LSTM(50, return_sequences=True, input_shape=(x_train.shape[1], 1)))\n",
        "model.add(LSTM(50, return_sequences=False))\n",
        "model.add(Dense(25))\n",
        "model.add(Dense(1))\n",
        "\n",
        "# Compile the model\n",
        "model.compile(optimizer='adam', loss='mean_squared_error')\n",
        "\n",
        "# Train the model\n",
        "model.fit(x_train, y_train, batch_size=1, epochs=10)\n",
        "\n",
        "# Prepare the test dataset\n",
        "test_data = scaled_data[training_data_len - 60:, :]\n",
        "x_test = []\n",
        "y_test = dataset[training_data_len:, :]\n",
        "for i in range(60, len(test_data)):\n",
        "    x_test.append(test_data[i-60:i, 0])\n",
        "\n",
        "# Convert the test data to numpy array and reshape\n",
        "x_test = np.array(x_test)\n",
        "x_test = np.reshape(x_test, (x_test.shape[0], x_test.shape[1], 1))\n",
        "\n",
        "# Get the model's predicted price values\n",
        "predictions = model.predict(x_test)\n",
        "predictions = scaler.inverse_transform(predictions)\n",
        "\n",
        "# Calculate the RMSE\n",
        "rmse = np.sqrt(np.mean((predictions - y_test) ** 2))\n",
        "print(\"Root Mean Squared Error (RMSE):\", rmse)\n",
        "\n",
        "# Plot the graph\n",
        "train = data[:training_data_len]\n",
        "valid = data[training_data_len:]\n",
        "valid['Predictions'] = predictions\n",
        "\n",
        "plt.figure(figsize=(8, 4))\n",
        "plt.title('Model')\n",
        "plt.xlabel('Date', fontsize=18)\n",
        "plt.ylabel('Close Price', fontsize=18)\n",
        "plt.plot(train['Close'],linewidth = '1')\n",
        "plt.plot(valid[['Close', 'Predictions']],linewidth = '1')\n",
        "plt.legend(['Train', 'Val', 'Predictions'], loc='lower right')\n",
        "plt.show()\n",
        "\n",
        "# Predict the next day's closing price\n",
        "last_60_days = scaled_data[-60:]\n",
        "X_test = np.array([last_60_days])\n",
        "X_test = np.reshape(X_test, (X_test.shape[0], X_test.shape[1], 1))\n",
        "\n",
        "pred_price = model.predict(X_test)\n",
        "pred_price = scaler.inverse_transform(pred_price)\n",
        "print(\"Predicted price for the next day:\", pred_price[0][0])\n",
        "\n",
        "# Evaluate the model on the test data\n",
        "test_data_accuracy = r2_score(y_test, predictions)\n",
        "print(\"Test Data Accuracy (R-squared):\", test_data_accuracy)\n"
      ],
      "metadata": {
        "colab": {
          "base_uri": "https://localhost:8080/",
          "height": 1000
        },
        "id": "r-nWpOGAtnX1",
        "outputId": "fcbcb023-ae3d-4dbc-d6e9-752161d0050d"
      },
      "execution_count": null,
      "outputs": [
        {
          "output_type": "stream",
          "name": "stdout",
          "text": [
            "Epoch 1/10\n",
            "2639/2639 [==============================] - 112s 41ms/step - loss: 3.9189e-04\n",
            "Epoch 2/10\n",
            "2639/2639 [==============================] - 100s 38ms/step - loss: 1.9015e-04\n",
            "Epoch 3/10\n",
            "2639/2639 [==============================] - 102s 39ms/step - loss: 1.5462e-04\n",
            "Epoch 4/10\n",
            "2639/2639 [==============================] - 101s 38ms/step - loss: 1.2974e-04\n",
            "Epoch 5/10\n",
            "2639/2639 [==============================] - 103s 39ms/step - loss: 1.4042e-04\n",
            "Epoch 6/10\n",
            "2639/2639 [==============================] - 105s 40ms/step - loss: 9.3847e-05\n",
            "Epoch 7/10\n",
            "2639/2639 [==============================] - 109s 41ms/step - loss: 1.0829e-04\n",
            "Epoch 8/10\n",
            "2639/2639 [==============================] - 108s 41ms/step - loss: 8.7658e-05\n",
            "Epoch 9/10\n",
            "2639/2639 [==============================] - 108s 41ms/step - loss: 7.7999e-05\n",
            "Epoch 10/10\n",
            "2639/2639 [==============================] - 110s 42ms/step - loss: 7.1715e-05\n",
            "22/22 [==============================] - 1s 22ms/step\n",
            "Root Mean Squared Error (RMSE): 5.003868841515291\n"
          ]
        },
        {
          "output_type": "stream",
          "name": "stderr",
          "text": [
            "<ipython-input-4-97f0b22d7a04>:79: SettingWithCopyWarning: \n",
            "A value is trying to be set on a copy of a slice from a DataFrame.\n",
            "Try using .loc[row_indexer,col_indexer] = value instead\n",
            "\n",
            "See the caveats in the documentation: https://pandas.pydata.org/pandas-docs/stable/user_guide/indexing.html#returning-a-view-versus-a-copy\n",
            "  valid['Predictions'] = predictions\n"
          ]
        },
        {
          "output_type": "display_data",
          "data": {
            "text/plain": [
              "<Figure size 800x400 with 1 Axes>"
            ],
            "image/png": "[encoded data removed]"
          },
          "metadata": {}
        },
        {
          "output_type": "stream",
          "name": "stdout",
          "text": [
            "1/1 [==============================] - 0s 35ms/step\n",
            "Predicted price for the next day: 178.63593\n",
            "Test Data Accuracy (R-squared): 0.9160845714484847\n"
          ]
        }
      ]
    }
  ]
}